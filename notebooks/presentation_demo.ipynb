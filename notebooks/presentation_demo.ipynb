{
 "cells": [
  {
   "cell_type": "markdown",
   "id": "cell-0",
   "metadata": {},
   "source": [
    "# Space Analytics Demo: DuckDB + Iceberg Integration\n",
    "\n",
    "This demonstration showcases the power of combining DuckDB with Iceberg for space analytics workloads.\n"
   ]
  },
  {
   "cell_type": "code",
   "execution_count": null,
   "id": "cell-1",
   "metadata": {},
   "outputs": [],
   "source": [
    "# Import required libraries\n",
    "import pandas as pd\n",
    "import numpy as np\n",
    "import matplotlib.pyplot as plt\n",
    "import seaborn as sns\n",
    "import duckdb\n",
    "import time\n",
    "from pathlib import Path\n",
    "import sys\n",
    "\n",
    "# Add scripts to path\n",
    "sys.path.append('../scripts')\n",
    "\n",
    "# Set up plotting style\n",
    "plt.style.use('seaborn-v0_8')\n",
    "sns.set_palette('viridis')\n",
    "\n",
    "print('Libraries imported successfully!')"
   ]
  },
  {
   "cell_type": "markdown",
   "id": "cell-2",
   "metadata": {},
   "source": [
    "## 1. Connect to Database"
   ]
  },
  {
   "cell_type": "code",
   "execution_count": null,
   "id": "cell-3",
   "metadata": {},
   "outputs": [],
   "source": [
    "# Connect to the space analytics database\n",
    "conn = duckdb.connect('../space_analytics.db')\n",
    "print('✓ Connected to space analytics database')"
   ]
  },
  {
   "cell_type": "markdown",
   "id": "cell-4",
   "metadata": {},
   "source": [
    "## 2. Quick Data Overview"
   ]
  },
  {
   "cell_type": "code",
   "execution_count": null,
   "id": "cell-5",
   "metadata": {},
   "outputs": [],
   "source": [
    "# Get basic dataset information\n",
    "overview = conn.execute(\"\"\"\n",
    "    SELECT \n",
    "        COUNT(*) as total_records,\n",
    "        COUNT(DISTINCT des) as unique_objects,\n",
    "        MIN(approach_year) as earliest_year,\n",
    "        MAX(approach_year) as latest_year\n",
    "    FROM neo_approaches\n",
    "\"\"\").df()\n",
    "\n",
    "print('📊 Dataset Overview:')\n",
    "print(f'  Total Records: {overview[\"total_records\"].iloc[0]:,}')\n",
    "print(f'  Unique Objects: {overview[\"unique_objects\"].iloc[0]:,}')\n",
    "print(f'  Year Range: {overview[\"earliest_year\"].iloc[0]} - {overview[\"latest_year\"].iloc[0]}')"
   ]
  },
  {
   "cell_type": "markdown",
   "id": "cell-6",
   "metadata": {},
   "source": [
    "## 3. Performance Demo"
   ]
  },
  {
   "cell_type": "code",
   "execution_count": null,
   "id": "cell-7",
   "metadata": {},
   "outputs": [],
   "source": [
    "# Demonstrate query performance\n",
    "start_time = time.time()\n",
    "\n",
    "results = conn.execute(\"\"\"\n",
    "    SELECT \n",
    "        approach_year,\n",
    "        COUNT(*) as approaches,\n",
    "        ROUND(AVG(dist), 6) as avg_distance,\n",
    "        ROUND(MIN(dist), 6) as closest_approach\n",
    "    FROM neo_approaches\n",
    "    WHERE approach_year BETWEEN 1950 AND 1970\n",
    "    GROUP BY approach_year\n",
    "    ORDER BY approach_year\n",
    "\"\"\").df()\n",
    "\n",
    "duration = time.time() - start_time\n",
    "print(f'✅ Query completed in {duration:.4f} seconds')\n",
    "print(f'📈 Analyzed {len(results)} years of data')"
   ]
  },
  {
   "cell_type": "markdown",
   "id": "cell-8",
   "metadata": {},
   "source": [
    "## 4. Cleanup"
   ]
  },
  {
   "cell_type": "code",
   "execution_count": null,
   "id": "cell-9",
   "metadata": {},
   "outputs": [],
   "source": [
    "# Close database connection\n",
    "conn.close()\n",
    "print('🧹 Database connection closed')\n",
    "print('\\n🎯 Demo completed successfully!')"
   ]
  }
 ],
 "metadata": {
  "kernelspec": {
   "display_name": "Python 3",
   "language": "python",
   "name": "python3"
  },
  "language_info": {
   "codemirror_mode": {
    "name": "ipython",
    "version": 3
   },
   "file_extension": ".py",
   "mimetype": "text/x-python",
   "name": "python",
   "nbconvert_exporter": "python",
   "pygments_lexer": "ipython3",
   "version": "3.9.0"
  }
 },
 "nbformat": 4,
 "nbformat_minor": 5
}